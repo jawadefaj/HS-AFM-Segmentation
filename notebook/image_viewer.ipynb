{
 "cells": [
  {
   "cell_type": "code",
   "execution_count": null,
   "metadata": {},
   "outputs": [],
   "source": [
    "import os\n",
    "import matplotlib.pyplot as plt\n",
    "from PIL import Image\n",
    "\n",
    "data_dir = '../data/'\n",
    "\n",
    "image_files = [f for f in os.listdir(data_dir) if f.endswith('CH1_.png')]\n",
    "\n",
    "for img_filename in image_files:\n",
    "    img_path = os.path.join(data_dir, img_filename)\n",
    "    \n",
    "    # Construct mask filename\n",
    "    # Example: 240607-01-0006_OTI_0001CH1_.png -> 0001_mask.png\n",
    "    mask_basename = img_filename.split('_')[-2].replace('CH1', '') + \"_mask.png\"\n",
    "    mask_path = os.path.join(data_dir, mask_basename)\n",
    "    \n",
    "    try:\n",
    "        image = Image.open(img_path)\n",
    "        mask = Image.open(mask_path)\n",
    "        \n",
    "        fig, ax = plt.subplots(1, 2, figsize=(10, 5))\n",
    "        \n",
    "        ax[0].imshow(image)\n",
    "        ax[0].set_title('Original Image')\n",
    "        ax[0].axis('off')\n",
    "        \n",
    "        ax[1].imshow(mask)\n",
    "        ax[1].set_title('Mask')\n",
    "        ax[1].axis('off')\n",
    "        \n",
    "        plt.show()\n",
    "        \n",
    "    except FileNotFoundError:\n",
    "        print(f\"Mask not found for {img_filename}\")"
   ]
  }
 ],
 "metadata": {},
 "nbformat": 4,
 "nbformat_minor": 5
}
